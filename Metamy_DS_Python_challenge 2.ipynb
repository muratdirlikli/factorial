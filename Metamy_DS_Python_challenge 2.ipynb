{
 "cells": [
  {
   "cell_type": "markdown",
   "id": "2cd3ae67",
   "metadata": {},
   "source": [
    "## Challenge (My_Factorial)"
   ]
  },
  {
   "cell_type": "markdown",
   "id": "6b80c96c",
   "metadata": {},
   "source": [
    "**Instructions**\n",
    "\n",
    "- We've learned <code>factorial</code> function in <code>math</code> module and made some practices. \n",
    "\n",
    "\n",
    "- I'm confident that you all are able to define same function with your Python knowledge!🦾\n",
    "\n",
    "\n",
    "- Please define your own <code>factorial</code> function as <code>my_factorial</code>. \n",
    "\n",
    "\n",
    "- You can use <code>if/else</code> statements.\n",
    "\n",
    "\n",
    "- I rely on you! Good luck!"
   ]
  },
  {
   "cell_type": "markdown",
   "id": "a784a057",
   "metadata": {},
   "source": [
    "**Solution**"
   ]
  },
  {
   "cell_type": "code",
   "execution_count": 13,
   "id": "84b1fba5",
   "metadata": {
    "ExecuteTime": {
     "end_time": "2023-11-23T18:07:06.420744Z",
     "start_time": "2023-11-23T18:07:02.823206Z"
    }
   },
   "outputs": [
    {
     "name": "stdout",
     "output_type": "stream",
     "text": [
      "Enter a number n: 7\n",
      "5040\n"
     ]
    }
   ],
   "source": [
    "number = int(input(\"Enter a number n: \"))\n",
    "i = 1\n",
    "summ = 1\n",
    "while i <=number:\n",
    "    summ*=i\n",
    "    i+=1\n",
    "print(summ)"
   ]
  },
  {
   "cell_type": "code",
   "execution_count": 14,
   "id": "15d64bb1",
   "metadata": {
    "ExecuteTime": {
     "end_time": "2023-11-23T18:07:35.004263Z",
     "start_time": "2023-11-23T18:07:34.998142Z"
    }
   },
   "outputs": [],
   "source": [
    "import math    # second solution"
   ]
  },
  {
   "cell_type": "code",
   "execution_count": 15,
   "id": "2732f2ff",
   "metadata": {
    "ExecuteTime": {
     "end_time": "2023-11-23T18:08:00.985721Z",
     "start_time": "2023-11-23T18:08:00.974041Z"
    }
   },
   "outputs": [
    {
     "data": {
      "text/plain": [
       "120"
      ]
     },
     "execution_count": 15,
     "metadata": {},
     "output_type": "execute_result"
    }
   ],
   "source": [
    "math.factorial(5)"
   ]
  },
  {
   "cell_type": "code",
   "execution_count": null,
   "id": "307f373e",
   "metadata": {},
   "outputs": [],
   "source": []
  }
 ],
 "metadata": {
  "hide_input": false,
  "kernelspec": {
   "display_name": "Python 3 (ipykernel)",
   "language": "python",
   "name": "python3"
  },
  "language_info": {
   "codemirror_mode": {
    "name": "ipython",
    "version": 3
   },
   "file_extension": ".py",
   "mimetype": "text/x-python",
   "name": "python",
   "nbconvert_exporter": "python",
   "pygments_lexer": "ipython3",
   "version": "3.11.5"
  },
  "nbTranslate": {
   "displayLangs": [
    "*"
   ],
   "hotkey": "alt-t",
   "langInMainMenu": true,
   "sourceLang": "en",
   "targetLang": "fr",
   "useGoogleTranslate": true
  },
  "toc": {
   "base_numbering": 1,
   "nav_menu": {},
   "number_sections": true,
   "sideBar": true,
   "skip_h1_title": false,
   "title_cell": "Table of Contents",
   "title_sidebar": "Contents",
   "toc_cell": false,
   "toc_position": {},
   "toc_section_display": true,
   "toc_window_display": false
  },
  "varInspector": {
   "cols": {
    "lenName": 16,
    "lenType": 16,
    "lenVar": 40
   },
   "kernels_config": {
    "python": {
     "delete_cmd_postfix": "",
     "delete_cmd_prefix": "del ",
     "library": "var_list.py",
     "varRefreshCmd": "print(var_dic_list())"
    },
    "r": {
     "delete_cmd_postfix": ") ",
     "delete_cmd_prefix": "rm(",
     "library": "var_list.r",
     "varRefreshCmd": "cat(var_dic_list()) "
    }
   },
   "types_to_exclude": [
    "module",
    "function",
    "builtin_function_or_method",
    "instance",
    "_Feature"
   ],
   "window_display": false
  },
  "vp": {
   "vp_config_version": "1.0.0",
   "vp_menu_width": 273,
   "vp_note_display": false,
   "vp_note_width": 0,
   "vp_position": {
    "width": 278
   },
   "vp_section_display": false,
   "vp_signature": "VisualPython"
  }
 },
 "nbformat": 4,
 "nbformat_minor": 5
}
